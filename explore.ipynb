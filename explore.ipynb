{
 "cells": [
  {
   "cell_type": "code",
   "execution_count": null,
   "metadata": {},
   "outputs": [],
   "source": [
    "import pandas as pd\n",
    "import json"
   ]
  },
  {
   "cell_type": "code",
   "execution_count": null,
   "metadata": {},
   "outputs": [],
   "source": []
  },
  {
   "cell_type": "code",
   "execution_count": null,
   "metadata": {},
   "outputs": [],
   "source": [
    "import pandas as pd\n",
    "import re\n",
    "\n",
    "sentence_content_pattern = re.compile(r'([\\u2460-\\u2470])\\s*')\n",
    "invalid_line_pattern = re.compile(r'^[\\d\\s]+$')\n",
    "\n",
    "example_sentences = []\n",
    "groups = []\n",
    "with open(\"CS_Word_20240405_22.25.17.txt\", \"r\", encoding=\"utf-8\") as fp:\n",
    "    matched = False\n",
    "    sentence = None\n",
    "    last_line = \"\"\n",
    "    for line in fp.readlines():\n",
    "        line = line.strip()\n",
    "        if len(line) < 3 or invalid_line_pattern.match(line.strip()):\n",
    "            continue\n",
    "\n",
    "        if matched == True and last_line[-1] != \"。\":\n",
    "            sentence[\"content\"] += line\n",
    "            last_line = line\n",
    "            continue\n",
    "\n",
    "        if sentence_content_pattern.match(line.strip()):\n",
    "            matched = True\n",
    "            sentence = {\"content\": sentence_content_pattern.sub(r\"\\1 \", line)}\n",
    "        else:\n",
    "            if matched:\n",
    "                sentence[\"hiragana\"] = \"\"\n",
    "                sentence[\"meaning\"] = line\n",
    "                if sentence[\"meaning\"][1] == \" \":\n",
    "                    sentence[\"meaning\"] = sentence[\"meaning\"][2:]\n",
    "\n",
    "                if sentence[\"meaning\"][0] == \"囉\":\n",
    "                    sentence[\"meaning\"] = sentence[\"meaning\"][1:]\n",
    "\n",
    "                if sentence[\"content\"][0] == \"①\" and groups:\n",
    "                    example_sentences.append(groups)\n",
    "                    groups = []\n",
    "\n",
    "                groups.append(sentence)\n",
    "            matched = False\n",
    "        last_line = line\n",
    "\n",
    "if groups:\n",
    "    example_sentences.append(groups)\n",
    "\n",
    "print(example_sentences[1])\n",
    "with open(\"example_sentences.json\", \"w\", encoding=\"utf-8\") as fp:\n",
    "    fp.write(json.dumps(example_sentences, ensure_ascii=False, indent=4))\n",
    "    # pd.DataFrame(example_sentences, dtype=str).fillna(\"\").to_json(fp, orient=\"records\", force_ascii=False, indent=4)"
   ]
  },
  {
   "cell_type": "code",
   "execution_count": null,
   "metadata": {},
   "outputs": [],
   "source": []
  },
  {
   "cell_type": "code",
   "execution_count": null,
   "metadata": {},
   "outputs": [],
   "source": [
    "import json\n",
    "import pandas as pd\n",
    "\n",
    "df = pd.read_json(\"grammar_pd.json\", dtype=str)\n",
    "with open(\"grammar.json\", \"r\", encoding=\"utf-8\") as f:\n",
    "    data = json.loads(f.read())\n",
    "    df = pd.DataFrame(data)\n",
    "df.head()\n",
    "detail = df.loc[0].to_dict()\n",
    "print(type(detail[\"example\"]))\n",
    "print(detail[\"example\"])"
   ]
  },
  {
   "cell_type": "code",
   "execution_count": 2,
   "metadata": {},
   "outputs": [],
   "source": [
    "from grammar_enumeration import grammars, df_grammars"
   ]
  },
  {
   "cell_type": "code",
   "execution_count": 21,
   "metadata": {},
   "outputs": [
    {
     "data": {
      "text/plain": [
       "(238, 10)"
      ]
     },
     "execution_count": 21,
     "metadata": {},
     "output_type": "execute_result"
    }
   ],
   "source": [
    "df_grammars.shape"
   ]
  },
  {
   "cell_type": "code",
   "execution_count": 30,
   "metadata": {},
   "outputs": [
    {
     "data": {
      "text/plain": [
       "True"
      ]
     },
     "execution_count": 30,
     "metadata": {},
     "output_type": "execute_result"
    }
   ],
   "source": [
    "df_grammars.hiragana.str.replace(r\"[（）()\\s()]\", \"\").str.contains(r'なしに')[23]"
   ]
  },
  {
   "cell_type": "code",
   "execution_count": 3,
   "metadata": {},
   "outputs": [
    {
     "name": "stderr",
     "output_type": "stream",
     "text": [
      "c:\\python38\\lib\\site-packages\\pandas\\core\\strings.py:1954: UserWarning: This pattern has match groups. To actually get the groups, use str.extract.\n",
      "  return func(self, *args, **kwargs)\n"
     ]
    },
    {
     "data": {
      "text/html": [
       "<div>\n",
       "<style scoped>\n",
       "    .dataframe tbody tr th:only-of-type {\n",
       "        vertical-align: middle;\n",
       "    }\n",
       "\n",
       "    .dataframe tbody tr th {\n",
       "        vertical-align: top;\n",
       "    }\n",
       "\n",
       "    .dataframe thead th {\n",
       "        text-align: right;\n",
       "    }\n",
       "</style>\n",
       "<table border=\"1\" class=\"dataframe\">\n",
       "  <thead>\n",
       "    <tr style=\"text-align: right;\">\n",
       "      <th></th>\n",
       "      <th>id</th>\n",
       "      <th>content</th>\n",
       "      <th>hiragana</th>\n",
       "      <th>meaning</th>\n",
       "      <th>usage</th>\n",
       "      <th>example</th>\n",
       "      <th>remark</th>\n",
       "      <th>source</th>\n",
       "      <th>japanese_meaning</th>\n",
       "      <th>chinese_meaning</th>\n",
       "    </tr>\n",
       "  </thead>\n",
       "  <tbody>\n",
       "    <tr>\n",
       "      <th>182</th>\n",
       "      <td>182</td>\n",
       "      <td>〜なしに(は)~なしではなくして(は)</td>\n",
       "      <td></td>\n",
       "      <td>⇒ もし〜がなかったら、 あることが成立しない。\\n如果没有······的活,某事就法迸行。</td>\n",
       "      <td>名・動 辞書形+ こと +なしに(は)なしではなくして(は)</td>\n",
       "      <td>[{'content': '① 資金を確保することなしにはどんな計画も実行できない。', '...</td>\n",
       "      <td>表述说话人的某种判断评价,认为要使某事得以实施,......是必要条件。前接表示说话人认为绝...</td>\n",
       "      <td>S1N109</td>\n",
       "      <td>⇒ もし〜がなかったら、 あることが成立しない。</td>\n",
       "      <td>如果没有······的活,某事就法迸行。</td>\n",
       "    </tr>\n",
       "  </tbody>\n",
       "</table>\n",
       "</div>"
      ],
      "text/plain": [
       "      id              content hiragana  \\\n",
       "182  182  〜なしに(は)~なしではなくして(は)            \n",
       "\n",
       "                                            meaning  \\\n",
       "182  ⇒ もし〜がなかったら、 あることが成立しない。\\n如果没有······的活,某事就法迸行。   \n",
       "\n",
       "                              usage  \\\n",
       "182  名・動 辞書形+ こと +なしに(は)なしではなくして(は)   \n",
       "\n",
       "                                               example  \\\n",
       "182  [{'content': '① 資金を確保することなしにはどんな計画も実行できない。', '...   \n",
       "\n",
       "                                                remark  source  \\\n",
       "182  表述说话人的某种判断评价,认为要使某事得以实施,......是必要条件。前接表示说话人认为绝...  S1N109   \n",
       "\n",
       "             japanese_meaning       chinese_meaning  \n",
       "182  ⇒ もし〜がなかったら、 あることが成立しない。  如果没有······的活,某事就法迸行。  "
      ]
     },
     "execution_count": 3,
     "metadata": {},
     "output_type": "execute_result"
    }
   ],
   "source": [
    "keyword = \"なくして(は)\"\n",
    "df = df_grammars\n",
    "df[df.content.str.replace(r\"[（）()\\s()]\", \"\").str.contains(keyword)\n",
    "                    | df.hiragana.str.replace(r\"[（）()\\s()]\", \"\").str.contains(keyword)\n",
    "                    | df.chinese_meaning.str.contains(keyword) | (df.source == keyword)]"
   ]
  },
  {
   "cell_type": "code",
   "execution_count": null,
   "metadata": {},
   "outputs": [],
   "source": [
    "import text_to_audio"
   ]
  },
  {
   "cell_type": "code",
   "execution_count": null,
   "metadata": {},
   "outputs": [],
   "source": [
    "text_to_audio.generate_audio([\n",
    "    (None, \"このマラソン大会には、性別、年齢を問わず\"),\n",
    "], None)"
   ]
  },
  {
   "cell_type": "code",
   "execution_count": null,
   "metadata": {},
   "outputs": [],
   "source": [
    "grammar_content_pattern = re.compile(r\"^\\d? ?[~\\u3040-\\u309F\\u30A0-\\u30FF\\u4E00-\\u9FFF  ()]+\")\n",
    "\n",
    "grammar_content_pattern.findall(\"~ 際 (に)\")"
   ]
  },
  {
   "cell_type": "code",
   "execution_count": null,
   "metadata": {},
   "outputs": [],
   "source": [
    "content = \"ここに車を止められるのは、許可をもらっている人（a だけ　b に限り）です。\"\n",
    "content = re.sub(\"\\s+\", \" \", content)\n",
    "print(content)\n",
    "\n",
    "question_pattern = re.compile(r\"[（(](?:[\\da-n]\\s*[~\\u3040-\\u309F\\u30A0-\\u30FF\\u4E00-\\u9FFF]+\\s*)+[)）]\")\n",
    "print(question_pattern.findall(content))"
   ]
  },
  {
   "cell_type": "code",
   "execution_count": null,
   "metadata": {},
   "outputs": [],
   "source": [
    "re.findall(r\"(?:[\\da-n]\\s*[~\\u3040-\\u309F\\u30A0-\\u30FF\\u4E00-\\u9FFF]+\\s*)+\", \"a だけ b に限り\")"
   ]
  },
  {
   "cell_type": "code",
   "execution_count": null,
   "metadata": {},
   "outputs": [],
   "source": [
    "question_pattern = re.compile(r\"[(（](?:[\\da-n]\\s*[~\\u3040-\\u309F\\u30A0-\\u30FF\\u4E00-\\u9FFF]+\\s*)+[）)]*\\?\")\n",
    "print(question_pattern.findall(\"こちらの会議室をご利用になる際は、 受付で必要事項をご記入ください。\"))\n",
    "print(question_pattern.findall(\"ここに車を止められるのは、許可をもらっている人（a だけ　b に限り）です。\"))"
   ]
  },
  {
   "cell_type": "code",
   "execution_count": null,
   "metadata": {},
   "outputs": [],
   "source": [
    "import pandas as pd\n",
    "import re\n",
    "\n",
    "grammar_content_pattern = re.compile(r\"^\\d [~\\u3040-\\u309F\\u30A0-\\u30FF\\u4E00-\\u9FFF  ()]+\")\n",
    "sentence_content_pattern = re.compile(r'([\\u2460-\\u2470])\\s*')\n",
    "invalid_line_pattern = re.compile(r'^[\\d\\s]+$')\n",
    "\n",
    "example_sentences = []\n",
    "with open(\"CS_Word_20240403_23.41.17.txt\", \"r\", encoding=\"utf-8\") as fp:\n",
    "    matched = False\n",
    "    sentence = None\n",
    "    last_line = \"\"\n",
    "    for line in fp.readlines():\n",
    "        line = line.strip()\n",
    "        if len(line) < 3 or invalid_line_pattern.match(line.strip()):\n",
    "            continue\n",
    "\n",
    "        if grammar_content_pattern.match(line):\n",
    "            print(line)"
   ]
  }
 ],
 "metadata": {
  "kernelspec": {
   "display_name": "test",
   "language": "python",
   "name": "python3"
  },
  "language_info": {
   "codemirror_mode": {
    "name": "ipython",
    "version": 3
   },
   "file_extension": ".py",
   "mimetype": "text/x-python",
   "name": "python",
   "nbconvert_exporter": "python",
   "pygments_lexer": "ipython3",
   "version": "3.8.6"
  }
 },
 "nbformat": 4,
 "nbformat_minor": 2
}
