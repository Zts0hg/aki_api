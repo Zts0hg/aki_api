{
 "cells": [
  {
   "cell_type": "code",
   "execution_count": null,
   "metadata": {},
   "outputs": [],
   "source": [
    "import pandas as pd\n",
    "\n",
    "\n",
    "df = pd.read_csv('N5词汇.csv')\n",
    "df.head()"
   ]
  },
  {
   "cell_type": "code",
   "execution_count": null,
   "metadata": {},
   "outputs": [],
   "source": [
    "df.loc[0].to_dict()"
   ]
  },
  {
   "cell_type": "code",
   "execution_count": null,
   "metadata": {},
   "outputs": [],
   "source": [
    "all_WordPhonetic = set(df[\"WordPhonetic\"].unique())\n",
    "all_WordDef = set(df[\"WordDef\"].unique())\n",
    "all_Word = set(df[\"Word\"].unique())"
   ]
  },
  {
   "cell_type": "code",
   "execution_count": null,
   "metadata": {},
   "outputs": [],
   "source": [
    "for _ in range(4):\n",
    "    print(all_WordPhonetic.pop())"
   ]
  },
  {
   "cell_type": "code",
   "execution_count": null,
   "metadata": {},
   "outputs": [],
   "source": [
    "def generate_multiple_options(options: set, answer, amount=4):\n",
    "    result = {answer}\n",
    "    other_options = options - result\n",
    "    for _ in range(amount - 1):\n",
    "        result.add(other_options.pop())\n",
    "    return list(result)\n",
    "\n",
    "\n",
    "records = []\n",
    "for index in df.index[:3]:\n",
    "    detail = df.loc[index].to_dict()\n",
    "    answer = detail[\"WordDef\"]\n",
    "    records.append(\n",
    "        {\n",
    "            \"question\": detail[\"Word\"],\n",
    "            \"options\": generate_multiple_options(\n",
    "                all_WordDef,\n",
    "                answer,\n",
    "            ),\n",
    "            \"answer\": answer,\n",
    "        }\n",
    "    )\n",
    "    if detail[\"WordPhonetic\"] != detail[\"Word\"]:\n",
    "        answer = detail[\"WordPhonetic\"]\n",
    "        records.append(\n",
    "            {\n",
    "                \"question\": detail[\"Word\"],\n",
    "                \"options\": generate_multiple_options(\n",
    "                    all_WordPhonetic,\n",
    "                    answer,\n",
    "                ),\n",
    "                \"answer\": answer,\n",
    "            }\n",
    "        )\n",
    "\n",
    "\n",
    "\n",
    "records"
   ]
  }
 ],
 "metadata": {
  "kernelspec": {
   "display_name": "test",
   "language": "python",
   "name": "python3"
  },
  "language_info": {
   "codemirror_mode": {
    "name": "ipython",
    "version": 3
   },
   "file_extension": ".py",
   "mimetype": "text/x-python",
   "name": "python",
   "nbconvert_exporter": "python",
   "pygments_lexer": "ipython3",
   "version": "3.11.2"
  }
 },
 "nbformat": 4,
 "nbformat_minor": 2
}
