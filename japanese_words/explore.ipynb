{
 "cells": [
  {
   "cell_type": "code",
   "execution_count": 15,
   "metadata": {},
   "outputs": [],
   "source": [
    "import pandas as pd\n",
    "import json\n",
    "import re\n",
    "import random"
   ]
  },
  {
   "cell_type": "code",
   "execution_count": 30,
   "metadata": {},
   "outputs": [],
   "source": [
    "def generate_multiple_options(options: list, answer, amount=4):\n",
    "    result = {answer}\n",
    "    candidates = list(random.choices(options, k=amount))\n",
    "    result.update([item for item in candidates if item != answer][:3])\n",
    "    return list(result)"
   ]
  },
  {
   "cell_type": "code",
   "execution_count": null,
   "metadata": {},
   "outputs": [],
   "source": []
  },
  {
   "cell_type": "code",
   "execution_count": 22,
   "metadata": {},
   "outputs": [],
   "source": [
    "def generate_quiz_records(file_path):\n",
    "    prefix_pattern = re.compile(r\"^【[^】]+】\")\n",
    "    df = pd.read_csv(file_path)\n",
    "    df.WordDef = df.WordDef.apply(lambda x: prefix_pattern.sub(\"\", x))\n",
    "\n",
    "    all_WordPhonetic = list(\n",
    "        df[~df.WordPhonetic.str.contains(r\"[A-Za-z]\")][\"WordPhonetic\"].unique()\n",
    "    )\n",
    "    all_WordDef = list(df[\"WordDef\"].unique())\n",
    "    # all_Word = list(df[\"Word\"].unique())\n",
    "    records = []\n",
    "    for index in df.index[:]:\n",
    "        detail = df.loc[index].to_dict()\n",
    "        answer = detail[\"WordDef\"]\n",
    "        records.append(\n",
    "            {\n",
    "                \"question\": detail[\"Word\"],\n",
    "                \"options\": generate_multiple_options(\n",
    "                    all_WordDef,\n",
    "                    answer,\n",
    "                ),\n",
    "                \"answer\": answer,\n",
    "            }\n",
    "        )\n",
    "        if detail[\"WordPhonetic\"] != detail[\"Word\"]:\n",
    "            answer = detail[\"WordPhonetic\"]\n",
    "            records.append(\n",
    "                {\n",
    "                    \"question\": detail[\"Word\"],\n",
    "                    \"options\": generate_multiple_options(\n",
    "                        all_WordPhonetic,\n",
    "                        answer,\n",
    "                    ),\n",
    "                    \"answer\": answer,\n",
    "                }\n",
    "            )\n",
    "    return records"
   ]
  },
  {
   "cell_type": "code",
   "execution_count": null,
   "metadata": {},
   "outputs": [],
   "source": [
    "for level in range(1, 6):\n",
    "    file_path = f\"N{level}词汇.csv\"\n",
    "    records = generate_quiz_records(file_path)\n",
    "\n",
    "    with open(f\"N{level}_words.json\", \"w\", encoding=\"utf-8\") as fp:\n",
    "        fp.write(json.dumps(records, ensure_ascii=False))"
   ]
  },
  {
   "cell_type": "code",
   "execution_count": 31,
   "metadata": {},
   "outputs": [
    {
     "name": "stdout",
     "output_type": "stream",
     "text": [
      "[{'question': '間', 'options': ['间，间隔', '抗体', '（食欲等）不振；（成绩）不好；商业萧条', '能干的人，干将；赠送方'], 'answer': '间，间隔'}, {'question': '間', 'options': ['あいだ', 'でんたつ', 'ちょうりし', 'なつかしむ'], 'answer': 'あいだ'}, {'question': '青', 'options': ['收成', '（豆子、果实等）连续长开状', '蓝色；青色；绿色；不成熟', '市议会'], 'answer': '蓝色；青色；绿色；不成熟'}, {'question': '青', 'options': ['にち', 'あお', 'きず', 'さわがしい'], 'answer': 'あお'}, {'question': '赤', 'options': ['红色；完全', '搬运；前往', '坚实', '使流动，冲；传播'], 'answer': '红色；完全'}, {'question': '赤', 'options': ['おかず', 'そそくさ', 'あか', 'まいにち'], 'answer': 'あか'}, {'question': '赤ちゃん', 'options': ['婴儿', '时髦，时尚', '用手指', '归还（大的东西）；（香港、澳门的）回归'], 'answer': '婴儿'}, {'question': '赤ちゃん', 'options': ['みおさめ', 'ぬける', 'あかちゃん', 'ちぢまる'], 'answer': 'あかちゃん'}, {'question': '赤ん坊', 'options': ['婴儿', '斗笠', '外面', '燃烧'], 'answer': '婴儿'}, {'question': '赤ん坊', 'options': ['つまらない', 'はいご', 'あかんぼう', 'ようせき'], 'answer': 'あかんぼう'}]\n"
     ]
    }
   ],
   "source": [
    "records = generate_quiz_records(\"日语能力考试10000词高效速记.csv\")\n",
    "print(records[:10])\n",
    "with open(f\"words_10000.json\", \"w\", encoding=\"utf-8\") as fp:\n",
    "    fp.write(json.dumps(records, ensure_ascii=False))"
   ]
  },
  {
   "cell_type": "code",
   "execution_count": 40,
   "metadata": {},
   "outputs": [],
   "source": [
    "import pandas as pd\n",
    "\n",
    "df = pd.DataFrame(records)\n",
    "df.to_csv(\"japanese_kana.csv\", index=False)"
   ]
  },
  {
   "cell_type": "code",
   "execution_count": 43,
   "metadata": {},
   "outputs": [],
   "source": [
    "all_hiragana = list(df.hiragana.unique())\n",
    "all_katakana = list(df.katakana.unique())\n",
    "records = []\n",
    "for index in df.index[:]:\n",
    "    detail = df.loc[index].to_dict()\n",
    "    question = detail[\"hiragana\"]\n",
    "    answer = detail[\"katakana\"]\n",
    "    records.append(\n",
    "        {\n",
    "            \"question\": question,\n",
    "            \"options\": generate_multiple_options(\n",
    "                all_katakana,\n",
    "                answer,\n",
    "            ),\n",
    "            \"answer\": answer,\n",
    "        }\n",
    "    )\n",
    "    question = detail[\"katakana\"]\n",
    "    answer = detail[\"hiragana\"]\n",
    "    records.append(\n",
    "        {\n",
    "            \"question\": question,\n",
    "            \"options\": generate_multiple_options(\n",
    "                all_hiragana,\n",
    "                answer,\n",
    "            ),\n",
    "            \"answer\": answer,\n",
    "        }\n",
    "    )"
   ]
  },
  {
   "cell_type": "code",
   "execution_count": 44,
   "metadata": {},
   "outputs": [
    {
     "name": "stdout",
     "output_type": "stream",
     "text": [
      "[{'question': 'あ', 'options': ['ミュ', 'ア', 'レ', 'ソ'], 'answer': 'ア'}, {'question': 'ア', 'options': ['を', 'あ', 'びゃ', 'みゅ'], 'answer': 'あ'}, {'question': 'い', 'options': ['ホ', 'ゲ', 'シャ', 'イ'], 'answer': 'イ'}, {'question': 'イ', 'options': ['り', 'しょ', 'む', 'い'], 'answer': 'い'}, {'question': 'う', 'options': ['ウ', 'ヂュ', 'ミョ', 'ビュ'], 'answer': 'ウ'}, {'question': 'ウ', 'options': ['う', 'ひゅ', 'せ', 'や'], 'answer': 'う'}, {'question': 'え', 'options': ['ム', 'エ', 'ピャ', 'ヒョ'], 'answer': 'エ'}, {'question': 'エ', 'options': ['ぱ', 'ちょ', 'え', 'じょ'], 'answer': 'え'}, {'question': 'お', 'options': ['ネ', 'ミョ', 'オ', 'シャ'], 'answer': 'オ'}, {'question': 'オ', 'options': ['ぜ', 'お', 'わ', 'す'], 'answer': 'お'}]\n"
     ]
    }
   ],
   "source": [
    "print(records[:10])\n",
    "with open(f\"kana_quiz.json\", \"w\", encoding=\"utf-8\") as fp:\n",
    "    fp.write(json.dumps(records, ensure_ascii=False))"
   ]
  }
 ],
 "metadata": {
  "kernelspec": {
   "display_name": "test",
   "language": "python",
   "name": "python3"
  },
  "language_info": {
   "codemirror_mode": {
    "name": "ipython",
    "version": 3
   },
   "file_extension": ".py",
   "mimetype": "text/x-python",
   "name": "python",
   "nbconvert_exporter": "python",
   "pygments_lexer": "ipython3",
   "version": "3.11.2"
  }
 },
 "nbformat": 4,
 "nbformat_minor": 2
}
